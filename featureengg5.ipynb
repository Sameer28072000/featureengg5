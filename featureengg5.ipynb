{
 "cells": [
  {
   "cell_type": "markdown",
   "id": "8c4eb50b-bab9-4a96-8cad-46549ef6b352",
   "metadata": {},
   "source": [
    "Q1. What is the difference between Ordinal Encoding and Label Encoding? Provide an example of when you\n",
    "might choose one over the other."
   ]
  },
  {
   "cell_type": "markdown",
   "id": "db8df08a-1ca9-49be-a69f-a0005d52ed9e",
   "metadata": {},
   "source": [
    "Ans:-Both techniques are used to convert categorical data into numerical data.\n",
    "i.  Ordinal Encoding---->Relative to order/rank\n",
    "ex. Rank 1\n",
    "    Rank2.....\n",
    "ii. Label Encoding------>Related to unique values\n",
    "ex. small\n",
    "    medium\n",
    "    large."
   ]
  },
  {
   "cell_type": "markdown",
   "id": "6d5d892e-c866-4bb4-856d-24886de73b0e",
   "metadata": {},
   "source": [
    "Q2. Explain how Target Guided Ordinal Encoding works and provide an example of when you might use it in\n",
    "a machine learning project."
   ]
  },
  {
   "cell_type": "code",
   "execution_count": null,
   "id": "c7e4bdc8-c8fc-4630-8106-931ab654f081",
   "metadata": {},
   "outputs": [],
   "source": [
    "Ans:-It is supervised learning in which technique used to encode categorical variable based on their \n",
    "     relationship with the target variable."
   ]
  },
  {
   "cell_type": "markdown",
   "id": "7834bfae-9404-487c-aaeb-1ce65aa38c88",
   "metadata": {},
   "source": [
    "Q3. Define covariance and explain why it is important in statistical analysis. How is covariance calculated?"
   ]
  },
  {
   "cell_type": "code",
   "execution_count": null,
   "id": "2ace9b9a-090b-418b-b9f2-465ac19ecdc7",
   "metadata": {},
   "outputs": [],
   "source": [
    "Ans:-It is a relationship between 2 variable\n",
    "formula------->\n",
    "cov(x,y)=summ from i to n (xi-xbar)*(yi-ybar)/n-1"
   ]
  },
  {
   "cell_type": "markdown",
   "id": "24dfa76e-25cd-4f2a-b004-ae52068c05b8",
   "metadata": {},
   "source": [
    "Q4. For a dataset with the following categorical variables: Color (red, green, blue), Size (small, medium,\n",
    "large), and Material (wood, metal, plastic), perform label encoding using Python's scikit-learn library.\n",
    "Show your code and explain the output."
   ]
  },
  {
   "cell_type": "code",
   "execution_count": 4,
   "id": "5c74c3d6-6390-4510-a168-2e4b68db1b5b",
   "metadata": {},
   "outputs": [
    {
     "name": "stdout",
     "output_type": "stream",
     "text": [
      "Encoded Color: [2 1 0]\n",
      "Encoded Size: [2 1 0]\n",
      "Encoded Material: [2 0 1]\n"
     ]
    }
   ],
   "source": [
    "from sklearn.preprocessing import LabelEncoder\n",
    "\n",
    "color = ['red', 'green', 'blue']\n",
    "size = ['small', 'medium', 'large']\n",
    "material = ['wood', 'metal', 'plastic']\n",
    "\n",
    "label_encoder = LabelEncoder()\n",
    "\n",
    "encoded_color = label_encoder.fit_transform(color)\n",
    "encoded_size = label_encoder.fit_transform(size)\n",
    "encoded_material = label_encoder.fit_transform(material)\n",
    "\n",
    "print(\"Encoded Color:\", encoded_color)\n",
    "print(\"Encoded Size:\", encoded_size)\n",
    "print(\"Encoded Material:\", encoded_material)"
   ]
  },
  {
   "cell_type": "markdown",
   "id": "f95fce34-8198-4960-aaa8-fc67d3c87ed8",
   "metadata": {},
   "source": [
    "Q5. Calculate the covariance matrix for the following variables in a dataset: Age, Income, and Education\n",
    "level. Interpret the results."
   ]
  },
  {
   "cell_type": "code",
   "execution_count": null,
   "id": "b4c68dfd-643e-49b7-8970-c5e3473c3a01",
   "metadata": {},
   "outputs": [],
   "source": [
    "Ans:-\n",
    "i.calculate average of each vriable(age,income,education)\n",
    "ii..calculate covariance between Age, Income.\n",
    "iii.calculate covariance between Age, Education level.\n",
    "iv.calculate covariance between income, Education level.\n",
    "\n",
    "Afdetr that you will get 3*3 covariance matrix."
   ]
  },
  {
   "cell_type": "markdown",
   "id": "5d901d45-121e-4a55-b020-9bb1c92185e6",
   "metadata": {},
   "source": [
    "Q6. You are working on a machine learning project with a dataset containing several categorical\n",
    "variables, including \"Gender\" (Male/Female), \"Education Level\" (High School/Bachelor's/Master's/PhD),\n",
    "and \"Employment Status\" (Unemployed/Part-Time/Full-Time). Which encoding method would you use for\n",
    "each variable, and why?"
   ]
  },
  {
   "cell_type": "code",
   "execution_count": null,
   "id": "2904d07e-cf3f-4a6c-8b5a-dcebec7cb8e2",
   "metadata": {},
   "outputs": [],
   "source": [
    "Ans:-\n",
    "i.gender---->Binary categorical variable------> 2 new column will add\n",
    "ii.Education Level-----> nomial variable------> 4 new column will add\n",
    "iii.Employment Status------> nominal variable------> 3 new column will add."
   ]
  },
  {
   "cell_type": "markdown",
   "id": "f219becf-5c3f-40a6-8058-f5bb946477f5",
   "metadata": {},
   "source": [
    "Q7. You are analyzing a dataset with two continuous variables, \"Temperature\" and \"Humidity\", and two\n",
    "categorical variables, \"Weather Condition\" (Sunny/Cloudy/Rainy) and \"Wind Direction\" (North/South/\n",
    "East/West). Calculate the covariance between each pair of variables and interpret the results."
   ]
  },
  {
   "cell_type": "code",
   "execution_count": null,
   "id": "0bc862de-b10a-459e-bb25-17859a88375f",
   "metadata": {},
   "outputs": [],
   "source": [
    "Ans:-\n",
    "i.Covariance between Continuous Variables (Temperature and Humidity)\n",
    "ii.Covariance between Continuous and Categorical Variables(Temperature and Weather Condition/ Humidity and Weather Condition)\n",
    "iii.Covariance Categorical Variables("
   ]
  }
 ],
 "metadata": {
  "kernelspec": {
   "display_name": "Python 3 (ipykernel)",
   "language": "python",
   "name": "python3"
  },
  "language_info": {
   "codemirror_mode": {
    "name": "ipython",
    "version": 3
   },
   "file_extension": ".py",
   "mimetype": "text/x-python",
   "name": "python",
   "nbconvert_exporter": "python",
   "pygments_lexer": "ipython3",
   "version": "3.10.8"
  }
 },
 "nbformat": 4,
 "nbformat_minor": 5
}
